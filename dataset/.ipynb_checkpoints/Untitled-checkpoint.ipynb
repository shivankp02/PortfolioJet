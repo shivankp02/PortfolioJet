{
 "cells": [
  {
   "cell_type": "code",
   "execution_count": 1,
   "id": "advised-skill",
   "metadata": {},
   "outputs": [
    {
     "name": "stdout",
     "output_type": "stream",
     "text": [
      "Wall time: 0 ns\n"
     ]
    },
    {
     "data": {
      "text/plain": [
       "['To',\n",
       " 'work',\n",
       " 'in',\n",
       " 'an',\n",
       " 'organisation',\n",
       " 'which',\n",
       " 'provides',\n",
       " 'me',\n",
       " 'with',\n",
       " 'ample',\n",
       " 'opportunities',\n",
       " 'to',\n",
       " 'enhance',\n",
       " 'my',\n",
       " 'skills',\n",
       " 'and',\n",
       " 'knowledge',\n",
       " 'along',\n",
       " 'with',\n",
       " 'contributing',\n",
       " 'to',\n",
       " 'the',\n",
       " 'growth',\n",
       " 'of',\n",
       " 'the',\n",
       " 'organisation']"
      ]
     },
     "execution_count": 1,
     "metadata": {},
     "output_type": "execute_result"
    }
   ],
   "source": [
    "%%time\n",
    "str1=\"To work in an organisation which provides me with ample opportunities to enhance my skills and knowledge along with contributing to the growth of the organisation\"\n",
    "lis = str1.split()\n",
    "lis"
   ]
  },
  {
   "cell_type": "code",
   "execution_count": 2,
   "id": "pregnant-output",
   "metadata": {},
   "outputs": [],
   "source": [
    "import pandas as pd"
   ]
  },
  {
   "cell_type": "code",
   "execution_count": 3,
   "id": "military-moses",
   "metadata": {},
   "outputs": [
    {
     "data": {
      "text/html": [
       "<div>\n",
       "<style scoped>\n",
       "    .dataframe tbody tr th:only-of-type {\n",
       "        vertical-align: middle;\n",
       "    }\n",
       "\n",
       "    .dataframe tbody tr th {\n",
       "        vertical-align: top;\n",
       "    }\n",
       "\n",
       "    .dataframe thead th {\n",
       "        text-align: right;\n",
       "    }\n",
       "</style>\n",
       "<table border=\"1\" class=\"dataframe\">\n",
       "  <thead>\n",
       "    <tr style=\"text-align: right;\">\n",
       "      <th></th>\n",
       "      <th>Word</th>\n",
       "      <th>Count</th>\n",
       "      <th>POS</th>\n",
       "      <th>Definition</th>\n",
       "    </tr>\n",
       "  </thead>\n",
       "  <tbody>\n",
       "    <tr>\n",
       "      <th>0</th>\n",
       "      <td>A</td>\n",
       "      <td>1</td>\n",
       "      <td>n</td>\n",
       "      <td>the blood group whose red cells carry the A an...</td>\n",
       "    </tr>\n",
       "    <tr>\n",
       "      <th>1</th>\n",
       "      <td>A</td>\n",
       "      <td>1</td>\n",
       "      <td>n</td>\n",
       "      <td>the 1st letter of the Roman alphabet</td>\n",
       "    </tr>\n",
       "    <tr>\n",
       "      <th>2</th>\n",
       "      <td>A battery</td>\n",
       "      <td>9</td>\n",
       "      <td>n</td>\n",
       "      <td>the battery used to heat the filaments of a va...</td>\n",
       "    </tr>\n",
       "    <tr>\n",
       "      <th>3</th>\n",
       "      <td>a cappella singing</td>\n",
       "      <td>18</td>\n",
       "      <td>n</td>\n",
       "      <td>singing without instrumental accompaniment</td>\n",
       "    </tr>\n",
       "    <tr>\n",
       "      <th>4</th>\n",
       "      <td>a Kempis</td>\n",
       "      <td>8</td>\n",
       "      <td>n</td>\n",
       "      <td>German ecclesiastic (1380-1471)</td>\n",
       "    </tr>\n",
       "  </tbody>\n",
       "</table>\n",
       "</div>"
      ],
      "text/plain": [
       "                 Word  Count POS  \\\n",
       "0                   A      1   n   \n",
       "1                   A      1   n   \n",
       "2           A battery      9   n   \n",
       "3  a cappella singing     18   n   \n",
       "4            a Kempis      8   n   \n",
       "\n",
       "                                          Definition  \n",
       "0  the blood group whose red cells carry the A an...  \n",
       "1               the 1st letter of the Roman alphabet  \n",
       "2  the battery used to heat the filaments of a va...  \n",
       "3         singing without instrumental accompaniment  \n",
       "4                    German ecclesiastic (1380-1471)  "
      ]
     },
     "execution_count": 3,
     "metadata": {},
     "output_type": "execute_result"
    }
   ],
   "source": [
    "df=pd.read_csv(\"WordnetAdjectives.csv\")\n",
    "df1=pd.read_csv(\"WordnetAdverbs.csv\")\n",
    "df2=pd.read_csv(\"WordnetNouns.csv\")\n",
    "df2.head()"
   ]
  },
  {
   "cell_type": "code",
   "execution_count": 4,
   "id": "administrative-triangle",
   "metadata": {},
   "outputs": [],
   "source": [
    "adjective=df['Word'].tolist()\n",
    "adverb=df1['Word'].tolist()\n",
    "noun=df2['Word'].tolist()"
   ]
  },
  {
   "cell_type": "code",
   "execution_count": 5,
   "id": "alpha-first",
   "metadata": {},
   "outputs": [
    {
     "data": {
      "text/plain": [
       "(19,\n",
       " 26,\n",
       " ['To',\n",
       "  'an',\n",
       "  'organisation',\n",
       "  'which',\n",
       "  'provides',\n",
       "  'me',\n",
       "  'with',\n",
       "  'opportunities',\n",
       "  'enhance',\n",
       "  'my',\n",
       "  'skills',\n",
       "  'and',\n",
       "  'knowledge',\n",
       "  'with',\n",
       "  'contributing',\n",
       "  'the',\n",
       "  'of',\n",
       "  'the',\n",
       "  'organisation'])"
      ]
     },
     "execution_count": 5,
     "metadata": {},
     "output_type": "execute_result"
    }
   ],
   "source": [
    "lit=[x for x in lis if x not in adjective]\n",
    "lit1=[x for x in lit if x not in adverb]\n",
    "lit2=[x for x in lit1 if x not in noun]\n",
    "len(lit2), len(lis), lit2"
   ]
  },
  {
   "cell_type": "code",
   "execution_count": 6,
   "id": "medieval-interstate",
   "metadata": {},
   "outputs": [],
   "source": [
    "from spacy.lang.en.stop_words import STOP_WORDS"
   ]
  },
  {
   "cell_type": "code",
   "execution_count": 7,
   "id": "portable-silence",
   "metadata": {},
   "outputs": [
    {
     "data": {
      "text/plain": [
       "(9,\n",
       " ['To',\n",
       "  'organisation',\n",
       "  'provides',\n",
       "  'opportunities',\n",
       "  'enhance',\n",
       "  'skills',\n",
       "  'knowledge',\n",
       "  'contributing',\n",
       "  'organisation'])"
      ]
     },
     "execution_count": 7,
     "metadata": {},
     "output_type": "execute_result"
    }
   ],
   "source": [
    "lit3=[x for x in lit2 if x not in STOP_WORDS]\n",
    "len(lit3),lit3"
   ]
  },
  {
   "cell_type": "code",
   "execution_count": 8,
   "id": "accomplished-prague",
   "metadata": {},
   "outputs": [
    {
     "name": "stdout",
     "output_type": "stream",
     "text": [
      "['lend', 'impart', 'bestow', 'contribute', 'add', 'bring', 'contribute', 'give', 'chip_in', 'kick_in', 'contribute', 'lead', 'conduce', 'put_up', 'contribute', 'conducive', 'contributing', 'contributive', 'contributory', 'tributary']\n"
     ]
    }
   ],
   "source": [
    "import nltk\n",
    "from nltk.corpus import wordnet\n",
    "syno=[]\n",
    "for syn in wordnet.synsets('contributing'):\n",
    "    for lemas in syn.lemmas():\n",
    "        syno.append(lemas.name())\n",
    "print(syno)"
   ]
  },
  {
   "cell_type": "code",
   "execution_count": 9,
   "id": "conservative-sessions",
   "metadata": {},
   "outputs": [
    {
     "name": "stderr",
     "output_type": "stream",
     "text": [
      "[nltk_data] Downloading package omw-1.4 to C:\\Users\\Krishna`s\n",
      "[nltk_data]     PC\\AppData\\Roaming\\nltk_data...\n",
      "[nltk_data]   Package omw-1.4 is already up-to-date!\n"
     ]
    },
    {
     "data": {
      "text/plain": [
       "True"
      ]
     },
     "execution_count": 9,
     "metadata": {},
     "output_type": "execute_result"
    }
   ],
   "source": [
    "nltk.download('omw-1.4')"
   ]
  },
  {
   "cell_type": "code",
   "execution_count": 10,
   "id": "athletic-swimming",
   "metadata": {},
   "outputs": [],
   "source": [
    "import spacy"
   ]
  },
  {
   "cell_type": "code",
   "execution_count": 11,
   "id": "assured-turkey",
   "metadata": {},
   "outputs": [],
   "source": [
    "nlp=spacy.load('en_core_web_sm')"
   ]
  },
  {
   "cell_type": "code",
   "execution_count": 12,
   "id": "blessed-pulse",
   "metadata": {},
   "outputs": [
    {
     "name": "stdout",
     "output_type": "stream",
     "text": [
      "To work in an organisation which provides me with ample opportunities to enhance my skills and knowledge along with contributing to the growth of the organisation\n"
     ]
    }
   ],
   "source": [
    "print(str1)"
   ]
  },
  {
   "cell_type": "code",
   "execution_count": 13,
   "id": "static-trainer",
   "metadata": {},
   "outputs": [],
   "source": [
    "lis_t=nlp(str1)"
   ]
  },
  {
   "cell_type": "code",
   "execution_count": 14,
   "id": "signal-andrews",
   "metadata": {},
   "outputs": [
    {
     "name": "stdout",
     "output_type": "stream",
     "text": [
      "organisation NOUN NN noun, singular or mass\n"
     ]
    }
   ],
   "source": [
    "print(lis_t[4] , lis_t[4].pos_, lis_t[4].tag_, spacy.explain(lis_t[4].tag_))"
   ]
  },
  {
   "cell_type": "code",
   "execution_count": 15,
   "id": "commercial-spare",
   "metadata": {},
   "outputs": [
    {
     "name": "stdout",
     "output_type": "stream",
     "text": [
      "To work in an organisation which provides me with ample opportunities to enhance my skills and knowledge along with contributing to the growth of the organisation\n"
     ]
    }
   ],
   "source": [
    "print(lis_t.text)    "
   ]
  },
  {
   "cell_type": "code",
   "execution_count": 16,
   "id": "decimal-tooth",
   "metadata": {},
   "outputs": [
    {
     "name": "stdout",
     "output_type": "stream",
     "text": [
      "[To, 'PART', 'TO', 'infinitival \"to\"']\n",
      "[work, 'VERB', 'VB', 'verb, base form']\n",
      "[in, 'ADP', 'IN', 'conjunction, subordinating or preposition']\n",
      "[an, 'DET', 'DT', 'determiner']\n",
      "[organisation, 'NOUN', 'NN', 'noun, singular or mass']\n",
      "[which, 'PRON', 'WDT', 'wh-determiner']\n",
      "[provides, 'VERB', 'VBZ', 'verb, 3rd person singular present']\n",
      "[me, 'PRON', 'PRP', 'pronoun, personal']\n",
      "[with, 'ADP', 'IN', 'conjunction, subordinating or preposition']\n",
      "[ample, 'ADJ', 'JJ', 'adjective (English), other noun-modifier (Chinese)']\n",
      "[opportunities, 'NOUN', 'NNS', 'noun, plural']\n",
      "[to, 'PART', 'TO', 'infinitival \"to\"']\n",
      "[enhance, 'VERB', 'VB', 'verb, base form']\n",
      "[my, 'PRON', 'PRP$', 'pronoun, possessive']\n",
      "[skills, 'NOUN', 'NNS', 'noun, plural']\n",
      "[and, 'CCONJ', 'CC', 'conjunction, coordinating']\n",
      "[knowledge, 'NOUN', 'NN', 'noun, singular or mass']\n",
      "[along, 'ADP', 'IN', 'conjunction, subordinating or preposition']\n",
      "[with, 'ADP', 'IN', 'conjunction, subordinating or preposition']\n",
      "[contributing, 'VERB', 'VBG', 'verb, gerund or present participle']\n",
      "[to, 'ADP', 'IN', 'conjunction, subordinating or preposition']\n",
      "[the, 'DET', 'DT', 'determiner']\n",
      "[growth, 'NOUN', 'NN', 'noun, singular or mass']\n",
      "[of, 'ADP', 'IN', 'conjunction, subordinating or preposition']\n",
      "[the, 'DET', 'DT', 'determiner']\n",
      "[organisation, 'NOUN', 'NN', 'noun, singular or mass']\n"
     ]
    }
   ],
   "source": [
    "for i in range(len(lis)):\n",
    "    print([lis_t[i] , lis_t[i].pos_, lis_t[i].tag_, spacy.explain(lis_t[i].tag_)])    "
   ]
  },
  {
   "cell_type": "code",
   "execution_count": 17,
   "id": "concrete-gospel",
   "metadata": {},
   "outputs": [
    {
     "data": {
      "text/plain": [
       "['To',\n",
       " 'provides',\n",
       " 'opportunities',\n",
       " 'contributing',\n",
       " 'knowledge',\n",
       " 'organisation',\n",
       " 'enhance',\n",
       " 'skills']"
      ]
     },
     "execution_count": 17,
     "metadata": {},
     "output_type": "execute_result"
    }
   ],
   "source": [
    "set1=set(lit3)\n",
    "set1\n",
    "lit3=list(set1)\n",
    "lit3"
   ]
  },
  {
   "cell_type": "code",
   "execution_count": 18,
   "id": "according-lincoln",
   "metadata": {},
   "outputs": [],
   "source": [
    "from nltk.stem import PorterStemmer\n",
    "from nltk.tokenize import sent_tokenize, word_tokenize\n",
    "\n",
    "ps = PorterStemmer()"
   ]
  },
  {
   "cell_type": "code",
   "execution_count": 19,
   "id": "extra-subcommittee",
   "metadata": {},
   "outputs": [
    {
     "data": {
      "text/plain": [
       "['provides',\n",
       " 'contributing',\n",
       " 'organisation',\n",
       " 'skills',\n",
       " 'opportun',\n",
       " 'enhanc',\n",
       " 'knowledg',\n",
       " 'to']"
      ]
     },
     "execution_count": 19,
     "metadata": {},
     "output_type": "execute_result"
    }
   ],
   "source": [
    "for i in lit3:\n",
    "    lit3.append(ps.stem(i))\n",
    "    lit3.remove(i)\n",
    "lit3"
   ]
  },
  {
   "cell_type": "code",
   "execution_count": 20,
   "id": "handed-traveler",
   "metadata": {},
   "outputs": [
    {
     "data": {
      "text/plain": [
       "'provides contributing organisation skills opportun enhanc knowledg to'"
      ]
     },
     "execution_count": 20,
     "metadata": {},
     "output_type": "execute_result"
    }
   ],
   "source": [
    "str2=\" \".join([x for x in lit3])\n",
    "str2"
   ]
  },
  {
   "cell_type": "code",
   "execution_count": 21,
   "id": "worthy-express",
   "metadata": {},
   "outputs": [],
   "source": [
    "str2=nlp(str2)"
   ]
  },
  {
   "cell_type": "code",
   "execution_count": 22,
   "id": "mature-ultimate",
   "metadata": {},
   "outputs": [
    {
     "name": "stdout",
     "output_type": "stream",
     "text": [
      "[provides, 'VERB', 'VBZ', 'verb, 3rd person singular present']\n",
      "[contributing, 'VERB', 'VBG', 'verb, gerund or present participle']\n",
      "[organisation, 'NOUN', 'NN', 'noun, singular or mass']\n",
      "[skills, 'NOUN', 'NNS', 'noun, plural']\n",
      "[opportun, 'NOUN', 'NN', 'noun, singular or mass']\n",
      "[enhanc, 'NOUN', 'NN', 'noun, singular or mass']\n",
      "[knowledg, 'NOUN', 'NN', 'noun, singular or mass']\n",
      "[to, 'ADP', 'IN', 'conjunction, subordinating or preposition']\n"
     ]
    }
   ],
   "source": [
    "for i in range(len(lit3)):\n",
    "    print([str2[i] , str2[i].pos_, str2[i].tag_, spacy.explain(str2[i].tag_)])    "
   ]
  },
  {
   "cell_type": "code",
   "execution_count": 23,
   "id": "hazardous-peter",
   "metadata": {},
   "outputs": [
    {
     "name": "stdout",
     "output_type": "stream",
     "text": [
      "[]\n"
     ]
    }
   ],
   "source": [
    "import nltk\n",
    "from nltk.corpus import wordnet\n",
    "syno=[]\n",
    "for syn in wordnet.synsets('contributing',pos='n'):\n",
    "    for lemas in syn.lemmas():\n",
    "        syno.append(lemas.name())\n",
    "print(syno)"
   ]
  },
  {
   "cell_type": "code",
   "execution_count": 24,
   "id": "worldwide-stand",
   "metadata": {},
   "outputs": [
    {
     "name": "stdout",
     "output_type": "stream",
     "text": [
      "{'provides': ['provides', 'supply', 'provide', 'render', 'furnish', 'provide', 'supply', 'ply', 'cater', 'provide', 'put_up', 'provide', 'offer', 'leave', 'allow_for', 'allow', 'provide', 'provide', 'bring_home_the_bacon', 'provide'], 'contributing': ['contributing', 'lend', 'impart', 'bestow', 'contribute', 'add', 'bring', 'contribute', 'give', 'chip_in', 'kick_in', 'contribute', 'lead', 'conduce', 'put_up', 'contribute'], 'organisation': ['organisation', 'administration', 'governance', 'governing_body', 'establishment', 'brass', 'organization', 'organisation', 'organization', 'organisation', 'arrangement', 'organization', 'organisation', 'system', 'organization', 'organisation', 'system', 'organization', 'organisation', 'organization', 'organisation', 'constitution', 'establishment', 'formation', 'organization', 'organisation'], 'skills': ['skills', 'skill', 'accomplishment', 'acquirement', 'acquisition', 'attainment', 'skill', 'science'], 'opportun': ['opportun'], 'enhanc': ['enhanc'], 'knowledg': ['knowledg'], 'to': ['to']}\n"
     ]
    }
   ],
   "source": [
    "import nltk\n",
    "from nltk.corpus import wordnet\n",
    "l={}\n",
    "for i in range(len(lit3)):\n",
    "    syno=[str2[i].text]\n",
    "    pos=str2[i].pos_\n",
    "    if pos[0]!='P':\n",
    "        for syn in wordnet.synsets(str2[i].text,pos=pos[0].lower()):\n",
    "            for lemas in syn.lemmas():\n",
    "                syno.append(lemas.name())\n",
    "        l[lit3[i]]=syno\n",
    "print(l)"
   ]
  },
  {
   "cell_type": "code",
   "execution_count": 25,
   "id": "sought-passenger",
   "metadata": {},
   "outputs": [
    {
     "name": "stdout",
     "output_type": "stream",
     "text": [
      "--->  provides ----> ['provides', 'supply', 'provide', 'render', 'furnish', 'provide', 'supply', 'ply', 'cater', 'provide', 'put_up', 'provide', 'offer', 'leave', 'allow_for', 'allow', 'provide', 'provide', 'bring_home_the_bacon', 'provide']\n",
      "--->  contributing ----> ['contributing', 'lend', 'impart', 'bestow', 'contribute', 'add', 'bring', 'contribute', 'give', 'chip_in', 'kick_in', 'contribute', 'lead', 'conduce', 'put_up', 'contribute']\n",
      "--->  organisation ----> ['organisation', 'administration', 'governance', 'governing_body', 'establishment', 'brass', 'organization', 'organisation', 'organization', 'organisation', 'arrangement', 'organization', 'organisation', 'system', 'organization', 'organisation', 'system', 'organization', 'organisation', 'organization', 'organisation', 'constitution', 'establishment', 'formation', 'organization', 'organisation']\n",
      "--->  skills ----> ['skills', 'skill', 'accomplishment', 'acquirement', 'acquisition', 'attainment', 'skill', 'science']\n",
      "--->  opportun ----> ['opportun']\n",
      "--->  enhanc ----> ['enhanc']\n",
      "--->  knowledg ----> ['knowledg']\n",
      "--->  to ----> ['to']\n"
     ]
    }
   ],
   "source": [
    "for i,j in l.items():\n",
    "    print(\"---> \",i,\"---->\",j)"
   ]
  },
  {
   "cell_type": "code",
   "execution_count": 26,
   "id": "noticed-sword",
   "metadata": {},
   "outputs": [
    {
     "name": "stdout",
     "output_type": "stream",
     "text": [
      "To work in an organisation which provides me with ample opportunities to enhance my skills and knowledge along with contributing to the growth of the organisation\n"
     ]
    }
   ],
   "source": [
    "g=[]\n",
    "for i in l.values():\n",
    "   g.append(len(i)) \n",
    "g\n",
    "for h in range(min(g)):\n",
    "    n=[]\n",
    "    for i in lis:\n",
    "        if i in l.keys():\n",
    "            n.append(l[i][h])\n",
    "        else:\n",
    "            n.append(i)\n",
    "    su=' '.join(n)\n",
    "    print(su)"
   ]
  },
  {
   "cell_type": "code",
   "execution_count": null,
   "id": "czech-appearance",
   "metadata": {},
   "outputs": [],
   "source": []
  }
 ],
 "metadata": {
  "kernelspec": {
   "display_name": "Python 3",
   "language": "python",
   "name": "python3"
  },
  "language_info": {
   "codemirror_mode": {
    "name": "ipython",
    "version": 3
   },
   "file_extension": ".py",
   "mimetype": "text/x-python",
   "name": "python",
   "nbconvert_exporter": "python",
   "pygments_lexer": "ipython3",
   "version": "3.9.5"
  },
  "toc": {
   "base_numbering": 1,
   "nav_menu": {},
   "number_sections": true,
   "sideBar": true,
   "skip_h1_title": false,
   "title_cell": "Table of Contents",
   "title_sidebar": "Contents",
   "toc_cell": false,
   "toc_position": {},
   "toc_section_display": true,
   "toc_window_display": false
  }
 },
 "nbformat": 4,
 "nbformat_minor": 5
}
